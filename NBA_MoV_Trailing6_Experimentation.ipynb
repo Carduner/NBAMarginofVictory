{
 "cells": [
  {
   "cell_type": "code",
   "execution_count": 1,
   "metadata": {},
   "outputs": [],
   "source": [
    "import pandas as pd"
   ]
  },
  {
   "cell_type": "code",
   "execution_count": 2,
   "metadata": {},
   "outputs": [],
   "source": [
    "import matplotlib.pyplot as plt"
   ]
  },
  {
   "cell_type": "code",
   "execution_count": 3,
   "metadata": {},
   "outputs": [],
   "source": [
    "import matplotlib"
   ]
  },
  {
   "cell_type": "code",
   "execution_count": 4,
   "metadata": {},
   "outputs": [],
   "source": [
    "from sklearn.decomposition import PCA\n",
    "import numpy as np"
   ]
  },
  {
   "cell_type": "code",
   "execution_count": 5,
   "metadata": {},
   "outputs": [],
   "source": [
    "from sklearn.preprocessing import StandardScaler"
   ]
  },
  {
   "cell_type": "code",
   "execution_count": 6,
   "metadata": {},
   "outputs": [],
   "source": [
    "from sklearn.linear_model import LinearRegression, Ridge, Lasso"
   ]
  },
  {
   "cell_type": "code",
   "execution_count": 7,
   "metadata": {},
   "outputs": [],
   "source": [
    "from sklearn.model_selection import cross_val_score"
   ]
  },
  {
   "cell_type": "code",
   "execution_count": 8,
   "metadata": {},
   "outputs": [],
   "source": [
    "subset = ['Home',\n",
    " 'teamPF_T6_x',\n",
    " 'teamFT%_T6_x',\n",
    " 'teamBLKR_T6_x',\n",
    " 'teamPPS_T6_x',\n",
    " 'teamEDiff_T6_x',\n",
    " 'teamSTL/TO_T6_x',\n",
    " 'teamTREB%_T6_y',\n",
    " 'teamBLKR_T6_y',\n",
    " 'teamPPS_T6_y',\n",
    " 'teamAST/TO_T6_y',\n",
    " 'teamSTL/TO_T6_y']"
   ]
  },
  {
   "cell_type": "markdown",
   "metadata": {},
   "source": [
    "## Next test is to change the trailing averages of the original data and compare r2 results at different trailing amounts\n",
    "#### From results above, I don't know which features will be more signficant if you increase/decrease trailing average so will use PCA on all components\n",
    "##### therefore at each trailling average amount I will:\n",
    "- Standardize X values\n",
    "- Transform X Values with PCA at .95 level\n",
    "- Predict target variable with components at different levels of alpha within Cross Validated Lasso Regression\n",
    "- Record best result at best alpha\n",
    "- visualize results"
   ]
  },
  {
   "cell_type": "code",
   "execution_count": 9,
   "metadata": {},
   "outputs": [
    {
     "data": {
      "text/html": [
       "<div>\n",
       "<style scoped>\n",
       "    .dataframe tbody tr th:only-of-type {\n",
       "        vertical-align: middle;\n",
       "    }\n",
       "\n",
       "    .dataframe tbody tr th {\n",
       "        vertical-align: top;\n",
       "    }\n",
       "\n",
       "    .dataframe thead th {\n",
       "        text-align: right;\n",
       "    }\n",
       "</style>\n",
       "<table border=\"1\" class=\"dataframe\">\n",
       "  <thead>\n",
       "    <tr style=\"text-align: right;\">\n",
       "      <th></th>\n",
       "      <th>PrimKey</th>\n",
       "      <th>opptKey</th>\n",
       "      <th>gmDate</th>\n",
       "      <th>teamAbbr</th>\n",
       "      <th>teamLoc</th>\n",
       "      <th>teamRslt</th>\n",
       "      <th>teamMin</th>\n",
       "      <th>teamDayOff</th>\n",
       "      <th>teamPTS</th>\n",
       "      <th>teamAST</th>\n",
       "      <th>...</th>\n",
       "      <th>opptFIC40</th>\n",
       "      <th>opptOrtg</th>\n",
       "      <th>opptDrtg</th>\n",
       "      <th>opptEDiff</th>\n",
       "      <th>opptPlay%</th>\n",
       "      <th>opptAR</th>\n",
       "      <th>opptAST/TO</th>\n",
       "      <th>opptSTL/TO</th>\n",
       "      <th>poss</th>\n",
       "      <th>pace</th>\n",
       "    </tr>\n",
       "  </thead>\n",
       "  <tbody>\n",
       "    <tr>\n",
       "      <th>0</th>\n",
       "      <td>43025BOS</td>\n",
       "      <td>43025CLE</td>\n",
       "      <td>10/17/2017</td>\n",
       "      <td>BOS</td>\n",
       "      <td>Away</td>\n",
       "      <td>Loss</td>\n",
       "      <td>241</td>\n",
       "      <td>0</td>\n",
       "      <td>99</td>\n",
       "      <td>24</td>\n",
       "      <td>...</td>\n",
       "      <td>55.5208</td>\n",
       "      <td>101.7143</td>\n",
       "      <td>98.7227</td>\n",
       "      <td>2.9916</td>\n",
       "      <td>0.4176</td>\n",
       "      <td>14.6154</td>\n",
       "      <td>1.1176</td>\n",
       "      <td>17.6471</td>\n",
       "      <td>100.2809</td>\n",
       "      <td>99.8648</td>\n",
       "    </tr>\n",
       "    <tr>\n",
       "      <th>1</th>\n",
       "      <td>43025CLE</td>\n",
       "      <td>43025BOS</td>\n",
       "      <td>10/17/2017</td>\n",
       "      <td>CLE</td>\n",
       "      <td>Home</td>\n",
       "      <td>Win</td>\n",
       "      <td>240</td>\n",
       "      <td>0</td>\n",
       "      <td>102</td>\n",
       "      <td>19</td>\n",
       "      <td>...</td>\n",
       "      <td>62.5519</td>\n",
       "      <td>98.7227</td>\n",
       "      <td>101.7143</td>\n",
       "      <td>-2.9916</td>\n",
       "      <td>0.3956</td>\n",
       "      <td>17.7778</td>\n",
       "      <td>2.0000</td>\n",
       "      <td>91.6667</td>\n",
       "      <td>100.2809</td>\n",
       "      <td>100.2809</td>\n",
       "    </tr>\n",
       "    <tr>\n",
       "      <th>2</th>\n",
       "      <td>43025HOU</td>\n",
       "      <td>43025GS</td>\n",
       "      <td>10/17/2017</td>\n",
       "      <td>HOU</td>\n",
       "      <td>Away</td>\n",
       "      <td>Win</td>\n",
       "      <td>239</td>\n",
       "      <td>0</td>\n",
       "      <td>122</td>\n",
       "      <td>28</td>\n",
       "      <td>...</td>\n",
       "      <td>86.2033</td>\n",
       "      <td>118.0353</td>\n",
       "      <td>119.0108</td>\n",
       "      <td>-0.9755</td>\n",
       "      <td>0.4725</td>\n",
       "      <td>24.2442</td>\n",
       "      <td>2.0000</td>\n",
       "      <td>29.4118</td>\n",
       "      <td>102.5117</td>\n",
       "      <td>102.9406</td>\n",
       "    </tr>\n",
       "    <tr>\n",
       "      <th>3</th>\n",
       "      <td>43025GS</td>\n",
       "      <td>43025HOU</td>\n",
       "      <td>10/17/2017</td>\n",
       "      <td>GS</td>\n",
       "      <td>Home</td>\n",
       "      <td>Loss</td>\n",
       "      <td>241</td>\n",
       "      <td>0</td>\n",
       "      <td>121</td>\n",
       "      <td>34</td>\n",
       "      <td>...</td>\n",
       "      <td>81.9038</td>\n",
       "      <td>119.0108</td>\n",
       "      <td>118.0353</td>\n",
       "      <td>0.9755</td>\n",
       "      <td>0.4700</td>\n",
       "      <td>19.1309</td>\n",
       "      <td>2.1538</td>\n",
       "      <td>69.2308</td>\n",
       "      <td>102.5117</td>\n",
       "      <td>102.0863</td>\n",
       "    </tr>\n",
       "    <tr>\n",
       "      <th>4</th>\n",
       "      <td>43026CHA</td>\n",
       "      <td>43026DET</td>\n",
       "      <td>10/18/2017</td>\n",
       "      <td>CHA</td>\n",
       "      <td>Away</td>\n",
       "      <td>Loss</td>\n",
       "      <td>238</td>\n",
       "      <td>0</td>\n",
       "      <td>90</td>\n",
       "      <td>16</td>\n",
       "      <td>...</td>\n",
       "      <td>70.7113</td>\n",
       "      <td>103.0506</td>\n",
       "      <td>90.9270</td>\n",
       "      <td>12.1236</td>\n",
       "      <td>0.4271</td>\n",
       "      <td>17.8731</td>\n",
       "      <td>2.6667</td>\n",
       "      <td>155.5556</td>\n",
       "      <td>98.9805</td>\n",
       "      <td>99.8123</td>\n",
       "    </tr>\n",
       "  </tbody>\n",
       "</table>\n",
       "<p>5 rows × 97 columns</p>\n",
       "</div>"
      ],
      "text/plain": [
       "    PrimKey   opptKey      gmDate teamAbbr teamLoc teamRslt  teamMin  \\\n",
       "0  43025BOS  43025CLE  10/17/2017      BOS    Away     Loss      241   \n",
       "1  43025CLE  43025BOS  10/17/2017      CLE    Home      Win      240   \n",
       "2  43025HOU   43025GS  10/17/2017      HOU    Away      Win      239   \n",
       "3   43025GS  43025HOU  10/17/2017       GS    Home     Loss      241   \n",
       "4  43026CHA  43026DET  10/18/2017      CHA    Away     Loss      238   \n",
       "\n",
       "   teamDayOff  teamPTS  teamAST    ...     opptFIC40  opptOrtg  opptDrtg  \\\n",
       "0           0       99       24    ...       55.5208  101.7143   98.7227   \n",
       "1           0      102       19    ...       62.5519   98.7227  101.7143   \n",
       "2           0      122       28    ...       86.2033  118.0353  119.0108   \n",
       "3           0      121       34    ...       81.9038  119.0108  118.0353   \n",
       "4           0       90       16    ...       70.7113  103.0506   90.9270   \n",
       "\n",
       "   opptEDiff  opptPlay%   opptAR  opptAST/TO  opptSTL/TO      poss      pace  \n",
       "0     2.9916     0.4176  14.6154      1.1176     17.6471  100.2809   99.8648  \n",
       "1    -2.9916     0.3956  17.7778      2.0000     91.6667  100.2809  100.2809  \n",
       "2    -0.9755     0.4725  24.2442      2.0000     29.4118  102.5117  102.9406  \n",
       "3     0.9755     0.4700  19.1309      2.1538     69.2308  102.5117  102.0863  \n",
       "4    12.1236     0.4271  17.8731      2.6667    155.5556   98.9805   99.8123  \n",
       "\n",
       "[5 rows x 97 columns]"
      ]
     },
     "execution_count": 9,
     "metadata": {},
     "output_type": "execute_result"
    }
   ],
   "source": [
    "nba = pd.read_csv('2017-18_teamBoxScore.csv')\n",
    "nba.head()"
   ]
  },
  {
   "cell_type": "code",
   "execution_count": 10,
   "metadata": {},
   "outputs": [
    {
     "data": {
      "text/html": [
       "<div>\n",
       "<style scoped>\n",
       "    .dataframe tbody tr th:only-of-type {\n",
       "        vertical-align: middle;\n",
       "    }\n",
       "\n",
       "    .dataframe tbody tr th {\n",
       "        vertical-align: top;\n",
       "    }\n",
       "\n",
       "    .dataframe thead th {\n",
       "        text-align: right;\n",
       "    }\n",
       "</style>\n",
       "<table border=\"1\" class=\"dataframe\">\n",
       "  <thead>\n",
       "    <tr style=\"text-align: right;\">\n",
       "      <th></th>\n",
       "      <th>teamMin</th>\n",
       "      <th>teamDayOff</th>\n",
       "      <th>teamPTS</th>\n",
       "      <th>teamAST</th>\n",
       "      <th>teamTO</th>\n",
       "      <th>teamSTL</th>\n",
       "      <th>teamBLK</th>\n",
       "      <th>teamPF</th>\n",
       "      <th>teamFGA</th>\n",
       "      <th>teamFGM</th>\n",
       "      <th>...</th>\n",
       "      <th>opptOrtg</th>\n",
       "      <th>opptDrtg</th>\n",
       "      <th>opptEDiff</th>\n",
       "      <th>opptPlay%</th>\n",
       "      <th>opptAR</th>\n",
       "      <th>opptAST/TO</th>\n",
       "      <th>opptSTL/TO</th>\n",
       "      <th>poss</th>\n",
       "      <th>pace</th>\n",
       "      <th>PrimKey</th>\n",
       "    </tr>\n",
       "  </thead>\n",
       "  <tbody>\n",
       "    <tr>\n",
       "      <th>0</th>\n",
       "      <td>241</td>\n",
       "      <td>0</td>\n",
       "      <td>99</td>\n",
       "      <td>24</td>\n",
       "      <td>12</td>\n",
       "      <td>11</td>\n",
       "      <td>4</td>\n",
       "      <td>24</td>\n",
       "      <td>88</td>\n",
       "      <td>36</td>\n",
       "      <td>...</td>\n",
       "      <td>101.7143</td>\n",
       "      <td>98.7227</td>\n",
       "      <td>2.9916</td>\n",
       "      <td>0.4176</td>\n",
       "      <td>14.6154</td>\n",
       "      <td>1.1176</td>\n",
       "      <td>17.6471</td>\n",
       "      <td>100.2809</td>\n",
       "      <td>99.8648</td>\n",
       "      <td>43025BOS</td>\n",
       "    </tr>\n",
       "    <tr>\n",
       "      <th>1</th>\n",
       "      <td>240</td>\n",
       "      <td>0</td>\n",
       "      <td>102</td>\n",
       "      <td>19</td>\n",
       "      <td>17</td>\n",
       "      <td>3</td>\n",
       "      <td>4</td>\n",
       "      <td>25</td>\n",
       "      <td>83</td>\n",
       "      <td>38</td>\n",
       "      <td>...</td>\n",
       "      <td>98.7227</td>\n",
       "      <td>101.7143</td>\n",
       "      <td>-2.9916</td>\n",
       "      <td>0.3956</td>\n",
       "      <td>17.7778</td>\n",
       "      <td>2.0000</td>\n",
       "      <td>91.6667</td>\n",
       "      <td>100.2809</td>\n",
       "      <td>100.2809</td>\n",
       "      <td>43025CLE</td>\n",
       "    </tr>\n",
       "    <tr>\n",
       "      <th>2</th>\n",
       "      <td>239</td>\n",
       "      <td>0</td>\n",
       "      <td>122</td>\n",
       "      <td>28</td>\n",
       "      <td>13</td>\n",
       "      <td>9</td>\n",
       "      <td>5</td>\n",
       "      <td>16</td>\n",
       "      <td>97</td>\n",
       "      <td>47</td>\n",
       "      <td>...</td>\n",
       "      <td>118.0353</td>\n",
       "      <td>119.0108</td>\n",
       "      <td>-0.9755</td>\n",
       "      <td>0.4725</td>\n",
       "      <td>24.2442</td>\n",
       "      <td>2.0000</td>\n",
       "      <td>29.4118</td>\n",
       "      <td>102.5117</td>\n",
       "      <td>102.9406</td>\n",
       "      <td>43025HOU</td>\n",
       "    </tr>\n",
       "    <tr>\n",
       "      <th>3</th>\n",
       "      <td>241</td>\n",
       "      <td>0</td>\n",
       "      <td>121</td>\n",
       "      <td>34</td>\n",
       "      <td>17</td>\n",
       "      <td>5</td>\n",
       "      <td>9</td>\n",
       "      <td>25</td>\n",
       "      <td>80</td>\n",
       "      <td>43</td>\n",
       "      <td>...</td>\n",
       "      <td>119.0108</td>\n",
       "      <td>118.0353</td>\n",
       "      <td>0.9755</td>\n",
       "      <td>0.4700</td>\n",
       "      <td>19.1309</td>\n",
       "      <td>2.1538</td>\n",
       "      <td>69.2308</td>\n",
       "      <td>102.5117</td>\n",
       "      <td>102.0863</td>\n",
       "      <td>43025GS</td>\n",
       "    </tr>\n",
       "    <tr>\n",
       "      <th>4</th>\n",
       "      <td>238</td>\n",
       "      <td>0</td>\n",
       "      <td>90</td>\n",
       "      <td>16</td>\n",
       "      <td>17</td>\n",
       "      <td>4</td>\n",
       "      <td>3</td>\n",
       "      <td>15</td>\n",
       "      <td>73</td>\n",
       "      <td>29</td>\n",
       "      <td>...</td>\n",
       "      <td>103.0506</td>\n",
       "      <td>90.9270</td>\n",
       "      <td>12.1236</td>\n",
       "      <td>0.4271</td>\n",
       "      <td>17.8731</td>\n",
       "      <td>2.6667</td>\n",
       "      <td>155.5556</td>\n",
       "      <td>98.9805</td>\n",
       "      <td>99.8123</td>\n",
       "      <td>43026CHA</td>\n",
       "    </tr>\n",
       "  </tbody>\n",
       "</table>\n",
       "<p>5 rows × 89 columns</p>\n",
       "</div>"
      ],
      "text/plain": [
       "   teamMin  teamDayOff  teamPTS  teamAST  teamTO  teamSTL  teamBLK  teamPF  \\\n",
       "0      241           0       99       24      12       11        4      24   \n",
       "1      240           0      102       19      17        3        4      25   \n",
       "2      239           0      122       28      13        9        5      16   \n",
       "3      241           0      121       34      17        5        9      25   \n",
       "4      238           0       90       16      17        4        3      15   \n",
       "\n",
       "   teamFGA  teamFGM    ...     opptOrtg  opptDrtg  opptEDiff  opptPlay%  \\\n",
       "0       88       36    ...     101.7143   98.7227     2.9916     0.4176   \n",
       "1       83       38    ...      98.7227  101.7143    -2.9916     0.3956   \n",
       "2       97       47    ...     118.0353  119.0108    -0.9755     0.4725   \n",
       "3       80       43    ...     119.0108  118.0353     0.9755     0.4700   \n",
       "4       73       29    ...     103.0506   90.9270    12.1236     0.4271   \n",
       "\n",
       "    opptAR  opptAST/TO  opptSTL/TO      poss      pace   PrimKey  \n",
       "0  14.6154      1.1176     17.6471  100.2809   99.8648  43025BOS  \n",
       "1  17.7778      2.0000     91.6667  100.2809  100.2809  43025CLE  \n",
       "2  24.2442      2.0000     29.4118  102.5117  102.9406  43025HOU  \n",
       "3  19.1309      2.1538     69.2308  102.5117  102.0863   43025GS  \n",
       "4  17.8731      2.6667    155.5556   98.9805   99.8123  43026CHA  \n",
       "\n",
       "[5 rows x 89 columns]"
      ]
     },
     "execution_count": 10,
     "metadata": {},
     "output_type": "execute_result"
    }
   ],
   "source": [
    "#select columns that are numeric for trailing calc\n",
    "nba_numbers = nba.select_dtypes(exclude='object')\n",
    "a = pd.DataFrame(nba['PrimKey'])\n",
    "nba_numbers = nba_numbers.merge(a,left_index=True, right_index=True)\n",
    "nba_numbers.head()"
   ]
  },
  {
   "cell_type": "code",
   "execution_count": 11,
   "metadata": {},
   "outputs": [],
   "source": [
    "num_fields = nba_numbers.columns.tolist()"
   ]
  },
  {
   "cell_type": "code",
   "execution_count": 12,
   "metadata": {},
   "outputs": [],
   "source": [
    "#exclude fields that don't make sense to do a trailing average of\n",
    "exclude = ['teamDayOff']\n",
    "team_fields = [x for x in num_fields if x not in exclude]\n",
    "#exclude opponent stats as it is redudant \n",
    "#as there is a line for the same game for the opponent too and \n",
    "#will merge that back later\n",
    "team_fields = [x for x in team_fields if 'oppt' not in x]"
   ]
  },
  {
   "cell_type": "code",
   "execution_count": 13,
   "metadata": {},
   "outputs": [],
   "source": [
    "#remove PrimKey\n",
    "trailing_fields = [x for x in team_fields if x != 'PrimKey']"
   ]
  },
  {
   "cell_type": "code",
   "execution_count": 14,
   "metadata": {},
   "outputs": [
    {
     "data": {
      "text/plain": [
       "30"
      ]
     },
     "execution_count": 14,
     "metadata": {},
     "output_type": "execute_result"
    }
   ],
   "source": [
    "#get team names for loop below\n",
    "teams = nba['teamAbbr'].unique()\n",
    "len(teams) #correct should be 30"
   ]
  },
  {
   "cell_type": "code",
   "execution_count": 15,
   "metadata": {},
   "outputs": [
    {
     "data": {
      "text/html": [
       "<div>\n",
       "<style scoped>\n",
       "    .dataframe tbody tr th:only-of-type {\n",
       "        vertical-align: middle;\n",
       "    }\n",
       "\n",
       "    .dataframe tbody tr th {\n",
       "        vertical-align: top;\n",
       "    }\n",
       "\n",
       "    .dataframe thead th {\n",
       "        text-align: right;\n",
       "    }\n",
       "</style>\n",
       "<table border=\"1\" class=\"dataframe\">\n",
       "  <thead>\n",
       "    <tr style=\"text-align: right;\">\n",
       "      <th></th>\n",
       "      <th>PrimKey_x</th>\n",
       "      <th>opptKey</th>\n",
       "      <th>MarginOfVictory</th>\n",
       "      <th>teamDayOff_x</th>\n",
       "      <th>Home</th>\n",
       "      <th>teamDayOff_y</th>\n",
       "    </tr>\n",
       "  </thead>\n",
       "  <tbody>\n",
       "    <tr>\n",
       "      <th>0</th>\n",
       "      <td>43025BOS</td>\n",
       "      <td>43025CLE</td>\n",
       "      <td>-3</td>\n",
       "      <td>0</td>\n",
       "      <td>0</td>\n",
       "      <td>0</td>\n",
       "    </tr>\n",
       "    <tr>\n",
       "      <th>1</th>\n",
       "      <td>43025CLE</td>\n",
       "      <td>43025BOS</td>\n",
       "      <td>3</td>\n",
       "      <td>0</td>\n",
       "      <td>1</td>\n",
       "      <td>0</td>\n",
       "    </tr>\n",
       "    <tr>\n",
       "      <th>2</th>\n",
       "      <td>43025HOU</td>\n",
       "      <td>43025GS</td>\n",
       "      <td>1</td>\n",
       "      <td>0</td>\n",
       "      <td>0</td>\n",
       "      <td>0</td>\n",
       "    </tr>\n",
       "    <tr>\n",
       "      <th>3</th>\n",
       "      <td>43025GS</td>\n",
       "      <td>43025HOU</td>\n",
       "      <td>-1</td>\n",
       "      <td>0</td>\n",
       "      <td>1</td>\n",
       "      <td>0</td>\n",
       "    </tr>\n",
       "    <tr>\n",
       "      <th>4</th>\n",
       "      <td>43026CHA</td>\n",
       "      <td>43026DET</td>\n",
       "      <td>-12</td>\n",
       "      <td>0</td>\n",
       "      <td>0</td>\n",
       "      <td>0</td>\n",
       "    </tr>\n",
       "  </tbody>\n",
       "</table>\n",
       "</div>"
      ],
      "text/plain": [
       "  PrimKey_x   opptKey  MarginOfVictory  teamDayOff_x  Home  teamDayOff_y\n",
       "0  43025BOS  43025CLE               -3             0     0             0\n",
       "1  43025CLE  43025BOS                3             0     1             0\n",
       "2  43025HOU   43025GS                1             0     0             0\n",
       "3   43025GS  43025HOU               -1             0     1             0\n",
       "4  43026CHA  43026DET              -12             0     0             0"
      ]
     },
     "execution_count": 15,
     "metadata": {},
     "output_type": "execute_result"
    }
   ],
   "source": [
    "#create final set to merge with\n",
    "#home/away, days off, and the dependent variable margin of victory\n",
    "\n",
    "#dependent\n",
    "nba['MarginOfVictory'] = nba['teamPTS'] - nba['opptPTS']\n",
    "#dummy home\n",
    "home = pd.get_dummies(nba['teamLoc'])\n",
    "home = home['Home']\n",
    "nba['Home'] = home\n",
    "#final selection\n",
    "nba_final = nba[['PrimKey','opptKey','MarginOfVictory','teamDayOff','Home']]\n",
    "nba_final = nba_final.merge(nba[['PrimKey','teamDayOff']], left_on='opptKey', right_on='PrimKey')\n",
    "nba_final.drop(columns='PrimKey_y', inplace=True)\n",
    "nba_final.head()"
   ]
  },
  {
   "cell_type": "code",
   "execution_count": 16,
   "metadata": {},
   "outputs": [],
   "source": [
    "#remove every other row\n",
    "home = 0\n",
    "away = 0\n",
    "for i in range(0,2460,2):\n",
    "    if home == away:\n",
    "        nba_final.drop(i,0,inplace=True)\n",
    "        away += 1\n",
    "    elif home < away:\n",
    "        nba_final.drop(i+1,0,inplace=True)\n",
    "        home += 1\n",
    "    elif home > away:\n",
    "        nba_final.drop(i,0,inplace=True)\n",
    "        away += 1  "
   ]
  },
  {
   "cell_type": "code",
   "execution_count": 17,
   "metadata": {},
   "outputs": [],
   "source": [
    "nba_final.columns = nba_final.columns.str.replace('PrimKey_x', 'PrimKey')"
   ]
  },
  {
   "cell_type": "code",
   "execution_count": 18,
   "metadata": {},
   "outputs": [
    {
     "data": {
      "text/html": [
       "<div>\n",
       "<style scoped>\n",
       "    .dataframe tbody tr th:only-of-type {\n",
       "        vertical-align: middle;\n",
       "    }\n",
       "\n",
       "    .dataframe tbody tr th {\n",
       "        vertical-align: top;\n",
       "    }\n",
       "\n",
       "    .dataframe thead th {\n",
       "        text-align: right;\n",
       "    }\n",
       "</style>\n",
       "<table border=\"1\" class=\"dataframe\">\n",
       "  <thead>\n",
       "    <tr style=\"text-align: right;\">\n",
       "      <th></th>\n",
       "      <th>PrimKey</th>\n",
       "      <th>opptKey</th>\n",
       "      <th>MarginOfVictory</th>\n",
       "      <th>teamDayOff_x</th>\n",
       "      <th>Home</th>\n",
       "      <th>teamDayOff_y</th>\n",
       "    </tr>\n",
       "  </thead>\n",
       "  <tbody>\n",
       "    <tr>\n",
       "      <th>1</th>\n",
       "      <td>43025CLE</td>\n",
       "      <td>43025BOS</td>\n",
       "      <td>3</td>\n",
       "      <td>0</td>\n",
       "      <td>1</td>\n",
       "      <td>0</td>\n",
       "    </tr>\n",
       "    <tr>\n",
       "      <th>2</th>\n",
       "      <td>43025HOU</td>\n",
       "      <td>43025GS</td>\n",
       "      <td>1</td>\n",
       "      <td>0</td>\n",
       "      <td>0</td>\n",
       "      <td>0</td>\n",
       "    </tr>\n",
       "    <tr>\n",
       "      <th>5</th>\n",
       "      <td>43026DET</td>\n",
       "      <td>43026CHA</td>\n",
       "      <td>12</td>\n",
       "      <td>0</td>\n",
       "      <td>1</td>\n",
       "      <td>0</td>\n",
       "    </tr>\n",
       "    <tr>\n",
       "      <th>6</th>\n",
       "      <td>43026BKN</td>\n",
       "      <td>43026IND</td>\n",
       "      <td>-9</td>\n",
       "      <td>0</td>\n",
       "      <td>0</td>\n",
       "      <td>0</td>\n",
       "    </tr>\n",
       "    <tr>\n",
       "      <th>9</th>\n",
       "      <td>43026ORL</td>\n",
       "      <td>43026MIA</td>\n",
       "      <td>7</td>\n",
       "      <td>0</td>\n",
       "      <td>1</td>\n",
       "      <td>0</td>\n",
       "    </tr>\n",
       "  </tbody>\n",
       "</table>\n",
       "</div>"
      ],
      "text/plain": [
       "    PrimKey   opptKey  MarginOfVictory  teamDayOff_x  Home  teamDayOff_y\n",
       "1  43025CLE  43025BOS                3             0     1             0\n",
       "2  43025HOU   43025GS                1             0     0             0\n",
       "5  43026DET  43026CHA               12             0     1             0\n",
       "6  43026BKN  43026IND               -9             0     0             0\n",
       "9  43026ORL  43026MIA                7             0     1             0"
      ]
     },
     "execution_count": 18,
     "metadata": {},
     "output_type": "execute_result"
    }
   ],
   "source": [
    "nba_final.head()"
   ]
  },
  {
   "cell_type": "code",
   "execution_count": 19,
   "metadata": {},
   "outputs": [
    {
     "data": {
      "text/plain": [
       "(1230, 6)"
      ]
     },
     "execution_count": 19,
     "metadata": {},
     "output_type": "execute_result"
    }
   ],
   "source": [
    "nba_final.shape"
   ]
  },
  {
   "cell_type": "code",
   "execution_count": 38,
   "metadata": {},
   "outputs": [],
   "source": [
    "trailing_fields.append('MarginOfVictory')"
   ]
  },
  {
   "cell_type": "code",
   "execution_count": 40,
   "metadata": {},
   "outputs": [],
   "source": [
    "team_fields.append('MarginOfVictory')"
   ]
  },
  {
   "cell_type": "code",
   "execution_count": 60,
   "metadata": {},
   "outputs": [],
   "source": [
    "def trailAvg(df, trailAmt, teams, team_fields, trailing_fields, df_final):\n",
    "\n",
    "    #compute trailing average\n",
    "    counter = 0\n",
    "    for i in teams:\n",
    "        temp = df[team_fields][df['teamAbbr']==i]\n",
    "        for x in trailing_fields:\n",
    "            temp[x+'_T6'] = temp[x].shift().rolling(window=trailAmt, min_periods = trailAmt).mean()\n",
    "        if counter == 0:\n",
    "            newDF = temp\n",
    "        else:\n",
    "            newDF = newDF.append(temp)\n",
    "        counter = 1\n",
    "        \n",
    "    #create list with only trailing fields\n",
    "    fields_t6 = [x for x in newDF.columns.tolist() if 'T6' in x]\n",
    "    fields_t6.append('PrimKey')\n",
    "    \n",
    "    #left join/merge with final nba sample which has only unique games with MoV, Home/Away, Days \n",
    "    df_final = df_final.merge(newDF[fields_t6], how='left', left_on='PrimKey',right_on='PrimKey')\n",
    "    df_final = df_final.merge(newDF[fields_t6], how='left', left_on='opptKey',right_on='PrimKey')\n",
    "    \n",
    "    #remove nas\n",
    "    df_final.dropna(axis = 0, how='any', inplace=True)\n",
    "    df_final.drop(columns='PrimKey_y', inplace=True)\n",
    "    df_final.columns = df_final.columns.str.replace('PrimKey_x', 'PrimKey')\n",
    "    nba_final.reset_index(inplace=True,drop=True)\n",
    "    \n",
    "    return df_final"
   ]
  },
  {
   "cell_type": "code",
   "execution_count": 21,
   "metadata": {},
   "outputs": [],
   "source": [
    "#write function to standardize X values and PCA Transform\n",
    "def scale_PCA(X):\n",
    "    X1 = X.astype(float)\n",
    "    scaler = StandardScaler()\n",
    "    X_S = scaler.fit_transform(X1)\n",
    "    pca1 = PCA(.95)\n",
    "    pca1.fit(X_S)\n",
    "    X_PCA = pca1.transform(X_S)\n",
    "    return X_PCA"
   ]
  },
  {
   "cell_type": "code",
   "execution_count": 22,
   "metadata": {},
   "outputs": [],
   "source": [
    "#function for regularization\n",
    "def regularization(x, Y, model, alphaLst, Kfolds):\n",
    "    results = []\n",
    "    for i in alphaLst:\n",
    "        Model = model(alpha=i)\n",
    "        scores = cross_val_score(Model, x, Y,cv=Kfolds)\n",
    "        sc = abs(scores.mean())\n",
    "        #print(\"Alpha: %0.2f, Accuracy: %0.2f (+/- %0.2f)\" % (i, scores.mean(), scores.std() * 2))\n",
    "        results.append(sc)\n",
    "    bestScore = max(results)\n",
    "    #print()\n",
    "    #print('Best Alpha: {}\\nr2 of {:5.5f}'.format(alphaLst[results.index(bestScore)],bestScore))\n",
    "    return alphaLst[results.index(bestScore)], bestScore"
   ]
  },
  {
   "cell_type": "code",
   "execution_count": null,
   "metadata": {},
   "outputs": [],
   "source": []
  },
  {
   "cell_type": "code",
   "execution_count": 23,
   "metadata": {},
   "outputs": [],
   "source": [
    "#write function to call scale_PCA for every iteration of trailing and regularization function to record best score"
   ]
  },
  {
   "cell_type": "code",
   "execution_count": 58,
   "metadata": {},
   "outputs": [],
   "source": [
    "def trail_test(df, trailAmtLst, teams, team_fields, trailing_fields, df_final, alphaLst, model):\n",
    "    bestScores = []\n",
    "    bestAlphas = []\n",
    "    for i in trailAmtLst:\n",
    "        \n",
    "        #print('TrailAmt: ',str(i))\n",
    "        #create new trailing average subset\n",
    "        new_trail_df = trailAvg(df, i, teams, team_fields, trailing_fields, df_final)\n",
    "        \n",
    "        #create list of X_columns\n",
    "        X_Cols = []\n",
    "        X_Cols.append('Home')\n",
    "        X_Cols = [x for x in new_trail_df.columns.tolist() if '_x' in x or '_y' in x]\n",
    "\n",
    "        #scale x data\n",
    "        X_PCA = scale_PCA(new_trail_df[X_Cols])\n",
    "\n",
    "        #get best lasso cross-validated score and alpha\n",
    "        alpha, score = regularization(X_PCA, new_trail_df['MarginOfVictory'], model, alphaLst, 5)\n",
    "        \n",
    "        #append results to lists\n",
    "        bestScores.append(score)\n",
    "        bestAlphas.append(alpha)\n",
    "        \n",
    "    #bestScore = max(bestScores) # get best score\n",
    "    \n",
    "    #print('Best trailAmt: {}, Score: {}'.format(trailAmtLst[bestScores.index(bestScore)],bestScore)) #print it\n",
    "    \n",
    "    return trailAmtLst, bestAlphas, bestScores"
   ]
  },
  {
   "cell_type": "code",
   "execution_count": 25,
   "metadata": {},
   "outputs": [],
   "source": [
    "import warnings\n",
    "warnings.filterwarnings(\"ignore\", category=DeprecationWarning) "
   ]
  },
  {
   "cell_type": "code",
   "execution_count": 26,
   "metadata": {},
   "outputs": [],
   "source": [
    "trailLst = [x for x in range(6,30)]\n",
    "aLst = [0.25,0.50,0.75,1.0]"
   ]
  },
  {
   "cell_type": "code",
   "execution_count": 54,
   "metadata": {
    "collapsed": true
   },
   "outputs": [
    {
     "ename": "NameError",
     "evalue": "name 'mean' is not defined",
     "output_type": "error",
     "traceback": [
      "\u001b[1;31m---------------------------------------------------------------------------\u001b[0m",
      "\u001b[1;31mNameError\u001b[0m                                 Traceback (most recent call last)",
      "\u001b[1;32m<ipython-input-54-b1c9a09c0f83>\u001b[0m in \u001b[0;36m<module>\u001b[1;34m\u001b[0m\n\u001b[1;32m----> 1\u001b[1;33m \u001b[0mtrailAmtLst\u001b[0m\u001b[1;33m,\u001b[0m \u001b[0mbestAlphas\u001b[0m\u001b[1;33m,\u001b[0m \u001b[0mbestScores\u001b[0m \u001b[1;33m=\u001b[0m \u001b[0mtrail_test\u001b[0m\u001b[1;33m(\u001b[0m\u001b[0mnba\u001b[0m\u001b[1;33m,\u001b[0m \u001b[0mtrailLst\u001b[0m\u001b[1;33m,\u001b[0m \u001b[0mteams\u001b[0m\u001b[1;33m,\u001b[0m \u001b[0mteam_fields\u001b[0m\u001b[1;33m,\u001b[0m \u001b[0mtrailing_fields\u001b[0m\u001b[1;33m,\u001b[0m \u001b[0mnba_final\u001b[0m\u001b[1;33m,\u001b[0m \u001b[0maLst\u001b[0m\u001b[1;33m,\u001b[0m \u001b[0mLasso\u001b[0m\u001b[1;33m,\u001b[0m \u001b[0mmean\u001b[0m\u001b[1;33m(\u001b[0m\u001b[1;33m)\u001b[0m\u001b[1;33m)\u001b[0m\u001b[1;33m\u001b[0m\u001b[1;33m\u001b[0m\u001b[0m\n\u001b[0m",
      "\u001b[1;31mNameError\u001b[0m: name 'mean' is not defined"
     ]
    }
   ],
   "source": [
    "trailAmtLst, bestAlphas, bestScores = trail_test(nba, trailLst, teams, team_fields, trailing_fields, nba_final, aLst, Lasso)"
   ]
  },
  {
   "cell_type": "code",
   "execution_count": 64,
   "metadata": {},
   "outputs": [],
   "source": [
    "def display_results(trailAmtLst, bestAlphas, bestScores, model, trailFunc):\n",
    "    title = model + ' CV R2 for Different ' + trailFunc + ' Trailing Amounts'\n",
    "    fig, ax = plt.subplots()\n",
    "    ax.bar(trailAmtLst, bestScores)\n",
    "    ax.set(xlabel='Trailing Amount',ylabel='5 fold CV Mean R2',title=title)\n",
    "    plt.xticks(trailAmtLst)\n",
    "    plt.show()\n",
    "    s = 0\n",
    "    \n",
    "    for i in range(len(bestScores)):\n",
    "        if bestScores[i] > s:\n",
    "            s = bestScores[i]\n",
    "            t = i\n",
    "        print('Trail Amt: {}, r2 Score: {}, bestAlpha: {}'.format(trailAmtLst[i], round(bestScores[i],4), bestAlphas[i]))\n",
    "    print()\n",
    "    print('Best Score: {}, Trail Amt: {}'.format(round(s,4), trailAmtLst[t]))"
   ]
  },
  {
   "cell_type": "code",
   "execution_count": 66,
   "metadata": {},
   "outputs": [
    {
     "data": {
      "image/png": "[encoded data removed]",
      "text/plain": [
       "<Figure size 432x288 with 1 Axes>"
      ]
     },
     "metadata": {
      "needs_background": "light"
     },
     "output_type": "display_data"
    },
    {
     "name": "stdout",
     "output_type": "stream",
     "text": [
      "Trail Amt: 6, r2 Score: 0.0948, bestAlpha: 0.5\n",
      "Trail Amt: 7, r2 Score: 0.1069, bestAlpha: 0.5\n",
      "Trail Amt: 8, r2 Score: 0.1175, bestAlpha: 0.75\n",
      "Trail Amt: 9, r2 Score: 0.1123, bestAlpha: 0.75\n",
      "Trail Amt: 10, r2 Score: 0.1068, bestAlpha: 0.75\n",
      "Trail Amt: 11, r2 Score: 0.1037, bestAlpha: 1.0\n",
      "Trail Amt: 12, r2 Score: 0.1098, bestAlpha: 0.75\n",
      "Trail Amt: 13, r2 Score: 0.1133, bestAlpha: 0.5\n",
      "Trail Amt: 14, r2 Score: 0.1062, bestAlpha: 1.0\n",
      "Trail Amt: 15, r2 Score: 0.1128, bestAlpha: 1.0\n",
      "Trail Amt: 16, r2 Score: 0.1185, bestAlpha: 0.75\n",
      "Trail Amt: 17, r2 Score: 0.112, bestAlpha: 0.5\n",
      "Trail Amt: 18, r2 Score: 0.1167, bestAlpha: 0.5\n",
      "Trail Amt: 19, r2 Score: 0.1207, bestAlpha: 0.5\n",
      "Trail Amt: 20, r2 Score: 0.1151, bestAlpha: 0.5\n",
      "Trail Amt: 21, r2 Score: 0.1125, bestAlpha: 0.5\n",
      "Trail Amt: 22, r2 Score: 0.1217, bestAlpha: 0.5\n",
      "Trail Amt: 23, r2 Score: 0.1175, bestAlpha: 0.75\n",
      "Trail Amt: 24, r2 Score: 0.1242, bestAlpha: 0.25\n",
      "Trail Amt: 25, r2 Score: 0.1215, bestAlpha: 0.25\n",
      "Trail Amt: 26, r2 Score: 0.1198, bestAlpha: 0.5\n",
      "Trail Amt: 27, r2 Score: 0.1232, bestAlpha: 0.5\n",
      "Trail Amt: 28, r2 Score: 0.1229, bestAlpha: 0.5\n",
      "Trail Amt: 29, r2 Score: 0.1186, bestAlpha: 0.5\n",
      "\n",
      "Best Score: 0.1242, Trail Amt: 24\n"
     ]
    }
   ],
   "source": [
    "display_results(trailAmtLst, bestAlphas, bestScores, 'Lasso', 'Mean')"
   ]
  },
  {
   "cell_type": "code",
   "execution_count": 80,
   "metadata": {},
   "outputs": [],
   "source": [
    "trailAmtLst1, bestAlphas1, bestScores1 = trail_test(nba, trailLst, teams, team_fields, trailing_fields, nba_final, [500,1000,1500], Ridge)"
   ]
  },
  {
   "cell_type": "code",
   "execution_count": 81,
   "metadata": {},
   "outputs": [
    {
     "data": {
      "image/png": "[encoded data removed]",
      "text/plain": [
       "<Figure size 432x288 with 1 Axes>"
      ]
     },
     "metadata": {
      "needs_background": "light"
     },
     "output_type": "display_data"
    },
    {
     "name": "stdout",
     "output_type": "stream",
     "text": [
      "Trail Amt: 6, r2 Score: 0.1055, bestAlpha: 1000\n",
      "Trail Amt: 7, r2 Score: 0.1187, bestAlpha: 1000\n",
      "Trail Amt: 8, r2 Score: 0.1204, bestAlpha: 1000\n",
      "Trail Amt: 9, r2 Score: 0.1179, bestAlpha: 1500\n",
      "Trail Amt: 10, r2 Score: 0.1107, bestAlpha: 1500\n",
      "Trail Amt: 11, r2 Score: 0.1132, bestAlpha: 1500\n",
      "Trail Amt: 12, r2 Score: 0.1156, bestAlpha: 1500\n",
      "Trail Amt: 13, r2 Score: 0.1174, bestAlpha: 1500\n",
      "Trail Amt: 14, r2 Score: 0.1105, bestAlpha: 1500\n",
      "Trail Amt: 15, r2 Score: 0.1151, bestAlpha: 1500\n",
      "Trail Amt: 16, r2 Score: 0.1163, bestAlpha: 1500\n",
      "Trail Amt: 17, r2 Score: 0.1102, bestAlpha: 1500\n",
      "Trail Amt: 18, r2 Score: 0.111, bestAlpha: 1500\n",
      "Trail Amt: 19, r2 Score: 0.1127, bestAlpha: 1000\n",
      "Trail Amt: 20, r2 Score: 0.1069, bestAlpha: 1500\n",
      "Trail Amt: 21, r2 Score: 0.1039, bestAlpha: 1000\n",
      "Trail Amt: 22, r2 Score: 0.1037, bestAlpha: 1500\n",
      "Trail Amt: 23, r2 Score: 0.1024, bestAlpha: 1500\n",
      "Trail Amt: 24, r2 Score: 0.1078, bestAlpha: 1000\n",
      "Trail Amt: 25, r2 Score: 0.1103, bestAlpha: 1000\n",
      "Trail Amt: 26, r2 Score: 0.1131, bestAlpha: 1000\n",
      "Trail Amt: 27, r2 Score: 0.1177, bestAlpha: 1000\n",
      "Trail Amt: 28, r2 Score: 0.1144, bestAlpha: 1000\n",
      "Trail Amt: 29, r2 Score: 0.1102, bestAlpha: 1000\n",
      "\n",
      "Best Score: 0.1204, Trail Amt: 8\n"
     ]
    }
   ],
   "source": [
    "display_results(trailAmtLst1, bestAlphas1, bestScores1, 'Ridge', 'Mean')"
   ]
  },
  {
   "cell_type": "markdown",
   "metadata": {},
   "source": [
    "### do same as above with median"
   ]
  },
  {
   "cell_type": "code",
   "execution_count": 69,
   "metadata": {},
   "outputs": [],
   "source": [
    "def trailAvg2(df, trailAmt, teams, team_fields, trailing_fields, df_final):\n",
    "\n",
    "    #compute trailing average\n",
    "    counter = 0\n",
    "    for i in teams:\n",
    "        temp = df[team_fields][df['teamAbbr']==i]\n",
    "        for x in trailing_fields:\n",
    "            temp[x+'_T6'] = temp[x].shift().rolling(window=trailAmt, min_periods = trailAmt).median()\n",
    "        if counter == 0:\n",
    "            newDF = temp\n",
    "        else:\n",
    "            newDF = newDF.append(temp)\n",
    "        counter = 1\n",
    "        \n",
    "    #create list with only trailing fields\n",
    "    fields_t6 = [x for x in newDF.columns.tolist() if 'T6' in x]\n",
    "    fields_t6.append('PrimKey')\n",
    "    \n",
    "    #left join/merge with final nba sample which has only unique games with MoV, Home/Away, Days \n",
    "    df_final = df_final.merge(newDF[fields_t6], how='left', left_on='PrimKey',right_on='PrimKey')\n",
    "    df_final = df_final.merge(newDF[fields_t6], how='left', left_on='opptKey',right_on='PrimKey')\n",
    "    \n",
    "    #remove nas\n",
    "    df_final.dropna(axis = 0, how='any', inplace=True)\n",
    "    df_final.drop(columns='PrimKey_y', inplace=True)\n",
    "    df_final.columns = df_final.columns.str.replace('PrimKey_x', 'PrimKey')\n",
    "    nba_final.reset_index(inplace=True,drop=True)\n",
    "    \n",
    "    return df_final"
   ]
  },
  {
   "cell_type": "code",
   "execution_count": 70,
   "metadata": {},
   "outputs": [],
   "source": [
    "def trail_test2(df, trailAmtLst, teams, team_fields, trailing_fields, df_final, alphaLst, model):\n",
    "    bestScores = []\n",
    "    bestAlphas = []\n",
    "    for i in trailAmtLst:\n",
    "        \n",
    "        #print('TrailAmt: ',str(i))\n",
    "        #create new trailing average subset\n",
    "        new_trail_df = trailAvg2(df, i, teams, team_fields, trailing_fields, df_final)\n",
    "        \n",
    "        #create list of X_columns\n",
    "        X_Cols = []\n",
    "        X_Cols.append('Home')\n",
    "        X_Cols = [x for x in new_trail_df.columns.tolist() if '_x' in x or '_y' in x]\n",
    "\n",
    "        #scale x data\n",
    "        X_PCA = scale_PCA(new_trail_df[X_Cols])\n",
    "\n",
    "        #get best lasso cross-validated score and alpha\n",
    "        alpha, score = regularization(X_PCA, new_trail_df['MarginOfVictory'], model, alphaLst, 5)\n",
    "        \n",
    "        #append results to lists\n",
    "        bestScores.append(score)\n",
    "        bestAlphas.append(alpha)\n",
    "        \n",
    "    #bestScore = max(bestScores) # get best score\n",
    "    \n",
    "    #print('Best trailAmt: {}, Score: {}'.format(trailAmtLst[bestScores.index(bestScore)],bestScore)) #print it\n",
    "    \n",
    "    return trailAmtLst, bestAlphas, bestScores"
   ]
  },
  {
   "cell_type": "code",
   "execution_count": 71,
   "metadata": {},
   "outputs": [],
   "source": [
    "trailAmtLst2, bestAlphas2, bestScores2 = trail_test2(nba, trailLst, teams, team_fields, trailing_fields, nba_final, aLst, Lasso)"
   ]
  },
  {
   "cell_type": "code",
   "execution_count": 72,
   "metadata": {},
   "outputs": [
    {
     "data": {
      "image/png": "[encoded data removed]",
      "text/plain": [
       "<Figure size 432x288 with 1 Axes>"
      ]
     },
     "metadata": {
      "needs_background": "light"
     },
     "output_type": "display_data"
    },
    {
     "name": "stdout",
     "output_type": "stream",
     "text": [
      "Trail Amt: 6, r2 Score: 0.0948, bestAlpha: 0.5\n",
      "Trail Amt: 7, r2 Score: 0.1069, bestAlpha: 0.5\n",
      "Trail Amt: 8, r2 Score: 0.1175, bestAlpha: 0.75\n",
      "Trail Amt: 9, r2 Score: 0.1123, bestAlpha: 0.75\n",
      "Trail Amt: 10, r2 Score: 0.1068, bestAlpha: 0.75\n",
      "Trail Amt: 11, r2 Score: 0.1037, bestAlpha: 1.0\n",
      "Trail Amt: 12, r2 Score: 0.1098, bestAlpha: 0.75\n",
      "Trail Amt: 13, r2 Score: 0.1133, bestAlpha: 0.5\n",
      "Trail Amt: 14, r2 Score: 0.1062, bestAlpha: 1.0\n",
      "Trail Amt: 15, r2 Score: 0.1128, bestAlpha: 1.0\n",
      "Trail Amt: 16, r2 Score: 0.1185, bestAlpha: 0.75\n",
      "Trail Amt: 17, r2 Score: 0.112, bestAlpha: 0.5\n",
      "Trail Amt: 18, r2 Score: 0.1167, bestAlpha: 0.5\n",
      "Trail Amt: 19, r2 Score: 0.1207, bestAlpha: 0.5\n",
      "Trail Amt: 20, r2 Score: 0.1151, bestAlpha: 0.5\n",
      "Trail Amt: 21, r2 Score: 0.1125, bestAlpha: 0.5\n",
      "Trail Amt: 22, r2 Score: 0.1217, bestAlpha: 0.5\n",
      "Trail Amt: 23, r2 Score: 0.1175, bestAlpha: 0.75\n",
      "Trail Amt: 24, r2 Score: 0.1242, bestAlpha: 0.25\n",
      "Trail Amt: 25, r2 Score: 0.1215, bestAlpha: 0.25\n",
      "Trail Amt: 26, r2 Score: 0.1198, bestAlpha: 0.5\n",
      "Trail Amt: 27, r2 Score: 0.1232, bestAlpha: 0.5\n",
      "Trail Amt: 28, r2 Score: 0.1229, bestAlpha: 0.5\n",
      "Trail Amt: 29, r2 Score: 0.1186, bestAlpha: 0.5\n",
      "\n",
      "Best Score: 0.1242, Trail Amt: 24\n"
     ]
    }
   ],
   "source": [
    "display_results(trailAmtLst2, bestAlphas2, bestScores2, 'Lasso', 'Median')"
   ]
  },
  {
   "cell_type": "code",
   "execution_count": 78,
   "metadata": {},
   "outputs": [],
   "source": [
    "trailAmtLst3, bestAlphas3, bestScores3 = trail_test2(nba, trailLst, teams, team_fields, trailing_fields, nba_final, [500,1000,1500], Ridge)"
   ]
  },
  {
   "cell_type": "code",
   "execution_count": 79,
   "metadata": {},
   "outputs": [
    {
     "data": {
      "image/png": "[encoded data removed]",
      "text/plain": [
       "<Figure size 432x288 with 1 Axes>"
      ]
     },
     "metadata": {
      "needs_background": "light"
     },
     "output_type": "display_data"
    },
    {
     "name": "stdout",
     "output_type": "stream",
     "text": [
      "Trail Amt: 6, r2 Score: 0.0968, bestAlpha: 1000\n",
      "Trail Amt: 7, r2 Score: 0.1017, bestAlpha: 1500\n",
      "Trail Amt: 8, r2 Score: 0.1105, bestAlpha: 1500\n",
      "Trail Amt: 9, r2 Score: 0.1085, bestAlpha: 1500\n",
      "Trail Amt: 10, r2 Score: 0.1018, bestAlpha: 1500\n",
      "Trail Amt: 11, r2 Score: 0.0987, bestAlpha: 1500\n",
      "Trail Amt: 12, r2 Score: 0.1021, bestAlpha: 1500\n",
      "Trail Amt: 13, r2 Score: 0.1083, bestAlpha: 1500\n",
      "Trail Amt: 14, r2 Score: 0.1041, bestAlpha: 1500\n",
      "Trail Amt: 15, r2 Score: 0.1097, bestAlpha: 1500\n",
      "Trail Amt: 16, r2 Score: 0.1163, bestAlpha: 1000\n",
      "Trail Amt: 17, r2 Score: 0.1149, bestAlpha: 1000\n",
      "Trail Amt: 18, r2 Score: 0.1187, bestAlpha: 500\n",
      "Trail Amt: 19, r2 Score: 0.1202, bestAlpha: 500\n",
      "Trail Amt: 20, r2 Score: 0.1154, bestAlpha: 1000\n",
      "Trail Amt: 21, r2 Score: 0.1104, bestAlpha: 1000\n",
      "Trail Amt: 22, r2 Score: 0.1202, bestAlpha: 500\n",
      "Trail Amt: 23, r2 Score: 0.1176, bestAlpha: 1000\n",
      "Trail Amt: 24, r2 Score: 0.1234, bestAlpha: 500\n",
      "Trail Amt: 25, r2 Score: 0.1223, bestAlpha: 500\n",
      "Trail Amt: 26, r2 Score: 0.1174, bestAlpha: 500\n",
      "Trail Amt: 27, r2 Score: 0.1199, bestAlpha: 500\n",
      "Trail Amt: 28, r2 Score: 0.1171, bestAlpha: 500\n",
      "Trail Amt: 29, r2 Score: 0.1105, bestAlpha: 1000\n",
      "\n",
      "Best Score: 0.1234, Trail Amt: 24\n"
     ]
    }
   ],
   "source": [
    "display_results(trailAmtLst3, bestAlphas3, bestScores3, 'Ridge', 'Median')"
   ]
  },
  {
   "cell_type": "code",
   "execution_count": 83,
   "metadata": {},
   "outputs": [],
   "source": [
    "compare = pd.DataFrame()\n",
    "compare['Trail_Amounts'] = trailAmtLst\n",
    "compare['Lasso_TrailingMedian'] = bestScores2\n",
    "compare['Ridge_TrailingMedian'] = bestScores3\n",
    "compare['Lasso_TrailingMean'] = bestScores\n",
    "compare['Ridge_TrailingMean'] = bestScores1"
   ]
  },
  {
   "cell_type": "code",
   "execution_count": 84,
   "metadata": {},
   "outputs": [
    {
     "data": {
      "text/plain": [
       "<matplotlib.axes._subplots.AxesSubplot at 0x256c6eb5cf8>"
      ]
     },
     "execution_count": 84,
     "metadata": {},
     "output_type": "execute_result"
    },
    {
     "data": {
      "image/png": "[encoded data removed]",
      "text/plain": [
       "<Figure size 432x288 with 1 Axes>"
      ]
     },
     "metadata": {
      "needs_background": "light"
     },
     "output_type": "display_data"
    }
   ],
   "source": [
    "compare.plot(x='Trail_Amounts',kind='line', grid=True, title='Trailing Average CV R2 Scores\\nby Regularization/Trailing Function Type')"
   ]
  }
 ],
 "metadata": {
  "kernelspec": {
   "display_name": "Python 3",
   "language": "python",
   "name": "python3"
  },
  "language_info": {
   "codemirror_mode": {
    "name": "ipython",
    "version": 3
   },
   "file_extension": ".py",
   "mimetype": "text/x-python",
   "name": "python",
   "nbconvert_exporter": "python",
   "pygments_lexer": "ipython3",
   "version": "3.7.1"
  }
 },
 "nbformat": 4,
 "nbformat_minor": 2
}
